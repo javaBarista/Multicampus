{
 "cells": [
  {
   "cell_type": "code",
   "execution_count": 2,
   "metadata": {},
   "outputs": [
    {
     "data": {
      "text/plain": [
       "[['통영점', '통영시123', '12222'],\n",
       " ['통영점', '통영시123', '12222'],\n",
       " ['통영점', '통영시123', '12222'],\n",
       " ['통영점', '통영시123', '12222'],\n",
       " ['통영점', '통영시123', '12222']]"
      ]
     },
     "execution_count": 2,
     "metadata": {},
     "output_type": "execute_result"
    }
   ],
   "source": [
    "result = []\n",
    "for _ in range(5):\n",
    "    name = \"통영점\"\n",
    "    addr = \"통영시123\"\n",
    "    phone = \"12222\"\n",
    "    result.append([name] + [addr] + [phone])\n",
    "result"
   ]
  },
  {
   "cell_type": "code",
   "execution_count": 2,
   "metadata": {},
   "outputs": [],
   "source": [
    "import pandas\n",
    "from itertools import count"
   ]
  },
  {
   "cell_type": "code",
   "execution_count": 6,
   "metadata": {},
   "outputs": [
    {
     "data": {
      "text/html": [
       "<div>\n",
       "<style scoped>\n",
       "    .dataframe tbody tr th:only-of-type {\n",
       "        vertical-align: middle;\n",
       "    }\n",
       "\n",
       "    .dataframe tbody tr th {\n",
       "        vertical-align: top;\n",
       "    }\n",
       "\n",
       "    .dataframe thead th {\n",
       "        text-align: right;\n",
       "    }\n",
       "</style>\n",
       "<table border=\"1\" class=\"dataframe\">\n",
       "  <thead>\n",
       "    <tr style=\"text-align: right;\">\n",
       "      <th></th>\n",
       "      <th>store</th>\n",
       "      <th>address</th>\n",
       "      <th>phone</th>\n",
       "    </tr>\n",
       "  </thead>\n",
       "  <tbody>\n",
       "    <tr>\n",
       "      <th>0</th>\n",
       "      <td>통영점</td>\n",
       "      <td>통영시123</td>\n",
       "      <td>12222</td>\n",
       "    </tr>\n",
       "    <tr>\n",
       "      <th>1</th>\n",
       "      <td>통영점</td>\n",
       "      <td>통영시123</td>\n",
       "      <td>12222</td>\n",
       "    </tr>\n",
       "    <tr>\n",
       "      <th>2</th>\n",
       "      <td>통영점</td>\n",
       "      <td>통영시123</td>\n",
       "      <td>12222</td>\n",
       "    </tr>\n",
       "    <tr>\n",
       "      <th>3</th>\n",
       "      <td>통영점</td>\n",
       "      <td>통영시123</td>\n",
       "      <td>12222</td>\n",
       "    </tr>\n",
       "    <tr>\n",
       "      <th>4</th>\n",
       "      <td>통영점</td>\n",
       "      <td>통영시123</td>\n",
       "      <td>12222</td>\n",
       "    </tr>\n",
       "  </tbody>\n",
       "</table>\n",
       "</div>"
      ],
      "text/plain": [
       "  store address  phone\n",
       "0   통영점  통영시123  12222\n",
       "1   통영점  통영시123  12222\n",
       "2   통영점  통영시123  12222\n",
       "3   통영점  통영시123  12222\n",
       "4   통영점  통영시123  12222"
      ]
     },
     "execution_count": 6,
     "metadata": {},
     "output_type": "execute_result"
    }
   ],
   "source": [
    "test = pandas.DataFrame(result, columns=['store', 'address', 'phone'])\n",
    "test"
   ]
  },
  {
   "cell_type": "code",
   "execution_count": 3,
   "metadata": {},
   "outputs": [
    {
     "name": "stdout",
     "output_type": "stream",
     "text": [
      "https://pelicana.co.kr/store/stroe_search.html?page=1\n",
      "https://pelicana.co.kr/store/stroe_search.html?page=2\n",
      "https://pelicana.co.kr/store/stroe_search.html?page=3\n",
      "https://pelicana.co.kr/store/stroe_search.html?page=4\n",
      "https://pelicana.co.kr/store/stroe_search.html?page=5\n",
      "https://pelicana.co.kr/store/stroe_search.html?page=6\n",
      "https://pelicana.co.kr/store/stroe_search.html?page=7\n",
      "https://pelicana.co.kr/store/stroe_search.html?page=8\n",
      "https://pelicana.co.kr/store/stroe_search.html?page=9\n",
      "https://pelicana.co.kr/store/stroe_search.html?page=10\n",
      "https://pelicana.co.kr/store/stroe_search.html?page=11\n",
      "https://pelicana.co.kr/store/stroe_search.html?page=12\n",
      "https://pelicana.co.kr/store/stroe_search.html?page=13\n",
      "https://pelicana.co.kr/store/stroe_search.html?page=14\n",
      "https://pelicana.co.kr/store/stroe_search.html?page=15\n",
      "https://pelicana.co.kr/store/stroe_search.html?page=16\n",
      "https://pelicana.co.kr/store/stroe_search.html?page=17\n",
      "https://pelicana.co.kr/store/stroe_search.html?page=18\n",
      "https://pelicana.co.kr/store/stroe_search.html?page=19\n",
      "https://pelicana.co.kr/store/stroe_search.html?page=20\n",
      "https://pelicana.co.kr/store/stroe_search.html?page=21\n",
      "https://pelicana.co.kr/store/stroe_search.html?page=22\n",
      "https://pelicana.co.kr/store/stroe_search.html?page=23\n",
      "https://pelicana.co.kr/store/stroe_search.html?page=24\n",
      "https://pelicana.co.kr/store/stroe_search.html?page=25\n",
      "https://pelicana.co.kr/store/stroe_search.html?page=26\n",
      "https://pelicana.co.kr/store/stroe_search.html?page=27\n",
      "https://pelicana.co.kr/store/stroe_search.html?page=28\n",
      "https://pelicana.co.kr/store/stroe_search.html?page=29\n",
      "https://pelicana.co.kr/store/stroe_search.html?page=30\n",
      "https://pelicana.co.kr/store/stroe_search.html?page=31\n",
      "https://pelicana.co.kr/store/stroe_search.html?page=32\n",
      "https://pelicana.co.kr/store/stroe_search.html?page=33\n",
      "https://pelicana.co.kr/store/stroe_search.html?page=34\n",
      "https://pelicana.co.kr/store/stroe_search.html?page=35\n",
      "https://pelicana.co.kr/store/stroe_search.html?page=36\n",
      "https://pelicana.co.kr/store/stroe_search.html?page=37\n",
      "https://pelicana.co.kr/store/stroe_search.html?page=38\n",
      "https://pelicana.co.kr/store/stroe_search.html?page=39\n",
      "https://pelicana.co.kr/store/stroe_search.html?page=40\n",
      "https://pelicana.co.kr/store/stroe_search.html?page=41\n",
      "https://pelicana.co.kr/store/stroe_search.html?page=42\n",
      "https://pelicana.co.kr/store/stroe_search.html?page=43\n",
      "https://pelicana.co.kr/store/stroe_search.html?page=44\n",
      "https://pelicana.co.kr/store/stroe_search.html?page=45\n",
      "https://pelicana.co.kr/store/stroe_search.html?page=46\n",
      "https://pelicana.co.kr/store/stroe_search.html?page=47\n",
      "https://pelicana.co.kr/store/stroe_search.html?page=48\n",
      "https://pelicana.co.kr/store/stroe_search.html?page=49\n",
      "https://pelicana.co.kr/store/stroe_search.html?page=50\n",
      "https://pelicana.co.kr/store/stroe_search.html?page=51\n",
      "https://pelicana.co.kr/store/stroe_search.html?page=52\n",
      "https://pelicana.co.kr/store/stroe_search.html?page=53\n",
      "https://pelicana.co.kr/store/stroe_search.html?page=54\n",
      "https://pelicana.co.kr/store/stroe_search.html?page=55\n",
      "https://pelicana.co.kr/store/stroe_search.html?page=56\n",
      "https://pelicana.co.kr/store/stroe_search.html?page=57\n",
      "https://pelicana.co.kr/store/stroe_search.html?page=58\n",
      "https://pelicana.co.kr/store/stroe_search.html?page=59\n",
      "https://pelicana.co.kr/store/stroe_search.html?page=60\n",
      "https://pelicana.co.kr/store/stroe_search.html?page=61\n",
      "https://pelicana.co.kr/store/stroe_search.html?page=62\n",
      "https://pelicana.co.kr/store/stroe_search.html?page=63\n",
      "https://pelicana.co.kr/store/stroe_search.html?page=64\n",
      "https://pelicana.co.kr/store/stroe_search.html?page=65\n",
      "https://pelicana.co.kr/store/stroe_search.html?page=66\n",
      "https://pelicana.co.kr/store/stroe_search.html?page=67\n",
      "https://pelicana.co.kr/store/stroe_search.html?page=68\n",
      "https://pelicana.co.kr/store/stroe_search.html?page=69\n",
      "https://pelicana.co.kr/store/stroe_search.html?page=70\n",
      "https://pelicana.co.kr/store/stroe_search.html?page=71\n",
      "https://pelicana.co.kr/store/stroe_search.html?page=72\n",
      "https://pelicana.co.kr/store/stroe_search.html?page=73\n",
      "https://pelicana.co.kr/store/stroe_search.html?page=74\n",
      "https://pelicana.co.kr/store/stroe_search.html?page=75\n",
      "https://pelicana.co.kr/store/stroe_search.html?page=76\n",
      "https://pelicana.co.kr/store/stroe_search.html?page=77\n",
      "https://pelicana.co.kr/store/stroe_search.html?page=78\n",
      "https://pelicana.co.kr/store/stroe_search.html?page=79\n",
      "https://pelicana.co.kr/store/stroe_search.html?page=80\n",
      "https://pelicana.co.kr/store/stroe_search.html?page=81\n",
      "https://pelicana.co.kr/store/stroe_search.html?page=82\n",
      "https://pelicana.co.kr/store/stroe_search.html?page=83\n",
      "https://pelicana.co.kr/store/stroe_search.html?page=84\n",
      "https://pelicana.co.kr/store/stroe_search.html?page=85\n",
      "https://pelicana.co.kr/store/stroe_search.html?page=86\n",
      "https://pelicana.co.kr/store/stroe_search.html?page=87\n",
      "https://pelicana.co.kr/store/stroe_search.html?page=88\n",
      "https://pelicana.co.kr/store/stroe_search.html?page=89\n",
      "https://pelicana.co.kr/store/stroe_search.html?page=90\n",
      "https://pelicana.co.kr/store/stroe_search.html?page=91\n",
      "https://pelicana.co.kr/store/stroe_search.html?page=92\n",
      "https://pelicana.co.kr/store/stroe_search.html?page=93\n",
      "https://pelicana.co.kr/store/stroe_search.html?page=94\n",
      "https://pelicana.co.kr/store/stroe_search.html?page=95\n",
      "https://pelicana.co.kr/store/stroe_search.html?page=96\n",
      "https://pelicana.co.kr/store/stroe_search.html?page=97\n",
      "https://pelicana.co.kr/store/stroe_search.html?page=98\n",
      "https://pelicana.co.kr/store/stroe_search.html?page=99\n",
      "https://pelicana.co.kr/store/stroe_search.html?page=100\n"
     ]
    }
   ],
   "source": [
    "for z in count():\n",
    "    if z >= 100: break\n",
    "    url = 'https://pelicana.co.kr/store/stroe_search.html?page=' + str(z+1)\n",
    "    print(url)"
   ]
  },
  {
   "cell_type": "code",
   "execution_count": null,
   "metadata": {},
   "outputs": [],
   "source": []
  }
 ],
 "metadata": {
  "kernelspec": {
   "display_name": "Python 3",
   "language": "python",
   "name": "python3"
  },
  "language_info": {
   "codemirror_mode": {
    "name": "ipython",
    "version": 3
   },
   "file_extension": ".py",
   "mimetype": "text/x-python",
   "name": "python",
   "nbconvert_exporter": "python",
   "pygments_lexer": "ipython3",
   "version": "3.7.1"
  }
 },
 "nbformat": 4,
 "nbformat_minor": 2
}
