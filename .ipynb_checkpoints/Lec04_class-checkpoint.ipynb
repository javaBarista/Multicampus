{
 "cells": [
  {
   "cell_type": "code",
   "execution_count": 2,
   "metadata": {},
   "outputs": [
    {
     "ename": "NameError",
     "evalue": "name '__main__' is not defined",
     "output_type": "error",
     "traceback": [
      "\u001b[1;31m---------------------------------------------------------------------------\u001b[0m",
      "\u001b[1;31mNameError\u001b[0m                                 Traceback (most recent call last)",
      "\u001b[1;32m<ipython-input-2-1d5407d2ffc3>\u001b[0m in \u001b[0;36m<module>\u001b[1;34m\u001b[0m\n\u001b[1;32m----> 1\u001b[1;33m \u001b[1;32mimport\u001b[0m \u001b[0mRemoveNum\u001b[0m \u001b[1;32mas\u001b[0m \u001b[0mrm\u001b[0m\u001b[1;33m\u001b[0m\u001b[1;33m\u001b[0m\u001b[0m\n\u001b[0m",
      "\u001b[1;32m~\\Github\\MultiCampus-Machine_Learning-Python-\\RemoveNum.py\u001b[0m in \u001b[0;36m<module>\u001b[1;34m\u001b[0m\n\u001b[0;32m      8\u001b[0m     \u001b[1;32mreturn\u001b[0m \u001b[0moutstr\u001b[0m\u001b[1;33m\u001b[0m\u001b[1;33m\u001b[0m\u001b[0m\n\u001b[0;32m      9\u001b[0m \u001b[1;33m\u001b[0m\u001b[0m\n\u001b[1;32m---> 10\u001b[1;33m \u001b[1;32mif\u001b[0m \u001b[0m__name__\u001b[0m \u001b[1;33m==\u001b[0m \u001b[0m__main__\u001b[0m \u001b[1;33m:\u001b[0m\u001b[1;33m\u001b[0m\u001b[1;33m\u001b[0m\u001b[0m\n\u001b[0m\u001b[0;32m     11\u001b[0m     \u001b[0mtestStr\u001b[0m \u001b[1;33m=\u001b[0m \u001b[0minput\u001b[0m\u001b[1;33m(\u001b[0m\u001b[1;34m'문자열 입력 : '\u001b[0m\u001b[1;33m)\u001b[0m\u001b[1;33m\u001b[0m\u001b[1;33m\u001b[0m\u001b[0m\n\u001b[0;32m     12\u001b[0m     \u001b[0mremove_num_from_str\u001b[0m\u001b[1;33m(\u001b[0m\u001b[0mtestStr\u001b[0m\u001b[1;33m)\u001b[0m\u001b[1;33m\u001b[0m\u001b[1;33m\u001b[0m\u001b[0m\n",
      "\u001b[1;31mNameError\u001b[0m: name '__main__' is not defined"
     ]
    }
   ],
   "source": [
    "import RemoveNum as rm"
   ]
  },
  {
   "cell_type": "code",
   "execution_count": null,
   "metadata": {},
   "outputs": [],
   "source": [
    "instr = input()\n",
    "rm.remove_num_from_str(instr)"
   ]
  },
  {
   "cell_type": "code",
   "execution_count": null,
   "metadata": {},
   "outputs": [],
   "source": [
    "import CountChar as cc"
   ]
  },
  {
   "cell_type": "code",
   "execution_count": null,
   "metadata": {},
   "outputs": [],
   "source": [
    "instr = input()\n",
    "cc.count_char(instr)"
   ]
  },
  {
   "cell_type": "code",
   "execution_count": null,
   "metadata": {},
   "outputs": [],
   "source": [
    "from DrawCircle import *\n",
    "from tkinter.simpledialog import *\n",
    "import turtle"
   ]
  },
  {
   "cell_type": "code",
   "execution_count": null,
   "metadata": {},
   "outputs": [],
   "source": [
    "instr = askstring('문자열 입력', '거북이가 쓸 문자열 입력')\n",
    "draw_circle(instr, 100)"
   ]
  },
  {
   "cell_type": "code",
   "execution_count": null,
   "metadata": {},
   "outputs": [],
   "source": [
    "from CalculatorClass import *"
   ]
  },
  {
   "cell_type": "code",
   "execution_count": null,
   "metadata": {},
   "outputs": [],
   "source": [
    "cc = Calculator()\n",
    "cc.add(10)\n",
    "cc.mul(2)\n",
    "cc.sub(10)"
   ]
  },
  {
   "cell_type": "code",
   "execution_count": null,
   "metadata": {},
   "outputs": [],
   "source": [
    "from FourCalCLass import *"
   ]
  },
  {
   "cell_type": "code",
   "execution_count": null,
   "metadata": {},
   "outputs": [],
   "source": [
    "class MoreCal(FourCal):\n",
    "    def pow(self):\n",
    "        return self.first ** self.second"
   ]
  },
  {
   "cell_type": "code",
   "execution_count": null,
   "metadata": {},
   "outputs": [],
   "source": [
    "c = MoreCal(4, 2)\n",
    "c.mul(), c.pow()"
   ]
  },
  {
   "cell_type": "code",
   "execution_count": null,
   "metadata": {},
   "outputs": [],
   "source": [
    "from person import *"
   ]
  },
  {
   "cell_type": "code",
   "execution_count": null,
   "metadata": {},
   "outputs": [],
   "source": [
    "a = Person(\"Hiro\")\n",
    "b = MDPerson(\"jay\")\n",
    "c = JDPerdon(\"david\")\n",
    "d = EmailPerson(\"John\", \"test@naver.com\")\n"
   ]
  },
  {
   "cell_type": "code",
   "execution_count": null,
   "metadata": {},
   "outputs": [],
   "source": [
    "from AirForceClass import *"
   ]
  },
  {
   "cell_type": "code",
   "execution_count": null,
   "metadata": {},
   "outputs": [],
   "source": [
    "def war_game(af):\n",
    "    af.take_off()\n",
    "    af.fly()\n",
    "    af.attack()\n",
    "    af.land()\n",
    "    \n",
    "a = Boomber(\"27756\", 3)\n",
    "b = Fighter(\"hgg6542\", 20)\n",
    "\n",
    "war_game(a)\n",
    "print()\n",
    "war_game(b)"
   ]
  },
  {
   "cell_type": "code",
   "execution_count": 1,
   "metadata": {},
   "outputs": [
    {
     "name": "stdout",
     "output_type": "stream",
     "text": [
      "8\n",
      "8 = 3 + 5\n",
      "20\n",
      "20 = 3 + 17\n",
      "42\n",
      "42 = 5 + 37\n",
      "0\n"
     ]
    }
   ],
   "source": [
    "eratos = []\n",
    "res = []\n",
    "\n",
    "def init():\n",
    "    global eratos\n",
    "    eratos.append(False)\n",
    "    eratos.append(False)\n",
    "\n",
    "    for i in range(2, 1000001):\n",
    "        eratos.append(True)\n",
    "        \n",
    "    i = 2\n",
    "    while (i * i) <= 1000000:\n",
    "        if eratos[i] : \n",
    "                res.append(i)\n",
    "                \n",
    "        for j in range(i + i, 1000001, i):\n",
    "            if eratos[j] : \n",
    "                 eratos[j] = False\n",
    "        i += 1\n",
    "\n",
    "init()\n",
    "while True:\n",
    "    n = int(input())\n",
    "    if n == 0:\n",
    "        break;\n",
    "    \n",
    "    for i in res:\n",
    "        if eratos[n - i] and eratos[i]:\n",
    "            print(\"%d = %d + %d\" % (n, i, n - i))\n",
    "            break;"
   ]
  },
  {
   "cell_type": "code",
   "execution_count": 19,
   "metadata": {},
   "outputs": [
    {
     "name": "stdout",
     "output_type": "stream",
     "text": [
      "4 4 4\n",
      "1 1 2 3\n",
      "5 2 4 2\n",
      "3 1 3 5\n",
      "2 1 3 2\n",
      "2 0 1\n",
      "3 1 3\n",
      "2 0 2\n",
      "3 1 1\n",
      "0\n"
     ]
    }
   ],
   "source": [
    "n, m, t = map(int, input().split())\n",
    "model = [list(map(int, input().split())) for _ in range(n)]\n",
    "\n",
    "def sum():\n",
    "    res = 0\n",
    "    for i in model:\n",
    "        for j in i:\n",
    "            if j > 0: res += j\n",
    "    return res\n",
    "            \n",
    "def remove_adj():\n",
    "    global model\n",
    "    chk = []\n",
    "    for i in range(n):\n",
    "        chk.append([])\n",
    "        for _ in range(m):\n",
    "            chk[i].append(False)\n",
    "            \n",
    "    for i in range(n):\n",
    "        for col in range(m):\n",
    "            if model[i][col - 1] == model[i][col]:\n",
    "                chk[i][col - 1] = chk[i][col] = True\n",
    "                \n",
    "    for i in range(m):           \n",
    "        for row in range(1, n):\n",
    "            if model[row - 1][i] == model[row][i]:\n",
    "                 chk[row - 1][i] = chk[row][i] = True\n",
    "     \n",
    "    al = True\n",
    "    cnt = 0\n",
    "    for i in range(n):\n",
    "        for j in range(m):\n",
    "            if model[i][j] > 0: \n",
    "                cnt += 1\n",
    "                if chk[i][j]: \n",
    "                    model[i][j] = -1\n",
    "                    al = False\n",
    "                \n",
    "    if al:\n",
    "        avg = sum() / (cnt if cnt != 0 else 1) \n",
    "        for i in range(n):\n",
    "            for j in range(m):\n",
    "                if model[i][j] > avg:\n",
    "                    model[i][j] -= 1\n",
    "                elif model[i][j] < avg and model[i][j] > -1:\n",
    "                    model[i][j] += 1\n",
    "        \n",
    "def rotate(i, c):\n",
    "    global model\n",
    "    \n",
    "    if c == 0:\n",
    "        tmp = model[i][-1]\n",
    "        for j in range(m - 1, 0, -1):\n",
    "            model[i][j] = model[i][j - 1]\n",
    "        model[i][0] = tmp\n",
    "    else:\n",
    "        tmp = model[i][0]\n",
    "        for j in range(m - 1):\n",
    "            model[i][j] = model[i][j + 1]\n",
    "        model[i][-1] = tmp\n",
    "\n",
    "for _ in range(t):\n",
    "    x, d, k = map(int, input().split())\n",
    "    for _ in range(k):\n",
    "        for i in range(x, n + 1, x):\n",
    "            rotate(i - 1, d) \n",
    "    remove_adj()\n",
    "\n",
    "print(sum())"
   ]
  },
  {
   "cell_type": "markdown",
   "metadata": {},
   "source": [
    "### 4 4 1\n",
    "1 1 2 3\n",
    "5 2 4 2\n",
    "3 1 3 5\n",
    "2 1 3 2\n",
    "2 0 1\n",
    "\n",
    "4 4 2\n",
    "1 1 2 3\n",
    "5 2 4 2\n",
    "3 1 3 5\n",
    "2 1 3 2\n",
    "2 0 1\n",
    "3 1 3\n",
    "2 0 2\n",
    "3 1 1"
   ]
  },
  {
   "cell_type": "code",
   "execution_count": 1,
   "metadata": {},
   "outputs": [],
   "source": [
    "from ClassMethodA import *"
   ]
  },
  {
   "cell_type": "code",
   "execution_count": 2,
   "metadata": {},
   "outputs": [
    {
     "name": "stdout",
     "output_type": "stream",
     "text": [
      "A has  3 little objects\n",
      "A has  3 little objects\n",
      "A Class Static Methods\n"
     ]
    }
   ],
   "source": [
    "easy_a = A()\n",
    "breezy_a = A()\n",
    "wheez_a = A()\n",
    "\n",
    "easy_a.kid()\n",
    "A.kid()\n",
    "A.describe_A()"
   ]
  },
  {
   "cell_type": "code",
   "execution_count": 1,
   "metadata": {},
   "outputs": [],
   "source": [
    "import WordClass"
   ]
  },
  {
   "cell_type": "code",
   "execution_count": 2,
   "metadata": {},
   "outputs": [
    {
     "data": {
      "text/plain": [
       "True"
      ]
     },
     "execution_count": 2,
     "metadata": {},
     "output_type": "execute_result"
    }
   ],
   "source": [
    "first = WordClass.Word('ha')\n",
    "second = WordClass.Word('Ha')\n",
    "first == second\n"
   ]
  },
  {
   "cell_type": "code",
   "execution_count": null,
   "metadata": {},
   "outputs": [],
   "source": []
  },
  {
   "cell_type": "code",
   "execution_count": null,
   "metadata": {},
   "outputs": [],
   "source": []
  }
 ],
 "metadata": {
  "kernelspec": {
   "display_name": "Python 3",
   "language": "python",
   "name": "python3"
  },
  "language_info": {
   "codemirror_mode": {
    "name": "ipython",
    "version": 3
   },
   "file_extension": ".py",
   "mimetype": "text/x-python",
   "name": "python",
   "nbconvert_exporter": "python",
   "pygments_lexer": "ipython3",
   "version": "3.7.1"
  }
 },
 "nbformat": 4,
 "nbformat_minor": 2
}
