{
 "cells": [
  {
   "cell_type": "markdown",
   "metadata": {},
   "source": [
    "#### 골드바흐의 추측"
   ]
  },
  {
   "cell_type": "code",
   "execution_count": 1,
   "metadata": {},
   "outputs": [
    {
     "name": "stdout",
     "output_type": "stream",
     "text": [
      "ㄴㄴㄴㄴㄴㄴㄴㄴㄴㄴ\n"
     ]
    },
    {
     "ename": "ValueError",
     "evalue": "invalid literal for int() with base 10: 'ㄴㄴㄴㄴㄴㄴㄴㄴㄴㄴ'",
     "output_type": "error",
     "traceback": [
      "\u001b[1;31m---------------------------------------------------------------------------\u001b[0m",
      "\u001b[1;31mValueError\u001b[0m                                Traceback (most recent call last)",
      "\u001b[1;32m<ipython-input-1-7e928a86426e>\u001b[0m in \u001b[0;36m<module>\u001b[1;34m\u001b[0m\n\u001b[0;32m     22\u001b[0m \u001b[0minit\u001b[0m\u001b[1;33m(\u001b[0m\u001b[1;33m)\u001b[0m\u001b[1;33m\u001b[0m\u001b[1;33m\u001b[0m\u001b[0m\n\u001b[0;32m     23\u001b[0m \u001b[1;32mwhile\u001b[0m \u001b[1;32mTrue\u001b[0m\u001b[1;33m:\u001b[0m\u001b[1;33m\u001b[0m\u001b[1;33m\u001b[0m\u001b[0m\n\u001b[1;32m---> 24\u001b[1;33m     \u001b[0mn\u001b[0m \u001b[1;33m=\u001b[0m \u001b[0mint\u001b[0m\u001b[1;33m(\u001b[0m\u001b[0minput\u001b[0m\u001b[1;33m(\u001b[0m\u001b[1;33m)\u001b[0m\u001b[1;33m)\u001b[0m\u001b[1;33m\u001b[0m\u001b[1;33m\u001b[0m\u001b[0m\n\u001b[0m\u001b[0;32m     25\u001b[0m     \u001b[1;32mif\u001b[0m \u001b[0mn\u001b[0m \u001b[1;33m==\u001b[0m \u001b[1;36m0\u001b[0m\u001b[1;33m:\u001b[0m\u001b[1;33m\u001b[0m\u001b[1;33m\u001b[0m\u001b[0m\n\u001b[0;32m     26\u001b[0m         \u001b[1;32mbreak\u001b[0m\u001b[1;33m;\u001b[0m\u001b[1;33m\u001b[0m\u001b[1;33m\u001b[0m\u001b[0m\n",
      "\u001b[1;31mValueError\u001b[0m: invalid literal for int() with base 10: 'ㄴㄴㄴㄴㄴㄴㄴㄴㄴㄴ'"
     ]
    }
   ],
   "source": [
    "eratos = []\n",
    "res = []\n",
    "\n",
    "def init():\n",
    "    global eratos\n",
    "    eratos.append(False)\n",
    "    eratos.append(False)\n",
    "\n",
    "    for i in range(2, 1000001):\n",
    "        eratos.append(True)\n",
    "        \n",
    "    i = 2\n",
    "    while (i * i) <= 1000000:\n",
    "        if eratos[i] : \n",
    "                res.append(i)\n",
    "                \n",
    "        for j in range(i + i, 1000001, i):\n",
    "            if eratos[j] : \n",
    "                 eratos[j] = False\n",
    "        i += 1\n",
    "\n",
    "init()\n",
    "while True:\n",
    "    n = int(input())\n",
    "    if n == 0:\n",
    "        break;\n",
    "    \n",
    "    for i in res:\n",
    "        if eratos[n - i] and eratos[i]:\n",
    "            print(\"%d = %d + %d\" % (n, i, n - i))\n",
    "            break;"
   ]
  },
  {
   "cell_type": "markdown",
   "metadata": {},
   "source": [
    "#### 원판돌리기"
   ]
  },
  {
   "cell_type": "code",
   "execution_count": 2,
   "metadata": {},
   "outputs": [
    {
     "name": "stdout",
     "output_type": "stream",
     "text": [
      "ㅈㅈㅈㅈㅈㅈㅈㅈㅈㅈㅈㅈㅈ\n"
     ]
    },
    {
     "ename": "ValueError",
     "evalue": "invalid literal for int() with base 10: 'ㅈㅈㅈㅈㅈㅈㅈㅈㅈㅈㅈㅈㅈ'",
     "output_type": "error",
     "traceback": [
      "\u001b[1;31m---------------------------------------------------------------------------\u001b[0m",
      "\u001b[1;31mValueError\u001b[0m                                Traceback (most recent call last)",
      "\u001b[1;32m<ipython-input-2-d2eb62f3b8f7>\u001b[0m in \u001b[0;36m<module>\u001b[1;34m\u001b[0m\n\u001b[1;32m----> 1\u001b[1;33m \u001b[0mn\u001b[0m\u001b[1;33m,\u001b[0m \u001b[0mm\u001b[0m\u001b[1;33m,\u001b[0m \u001b[0mt\u001b[0m \u001b[1;33m=\u001b[0m \u001b[0mmap\u001b[0m\u001b[1;33m(\u001b[0m\u001b[0mint\u001b[0m\u001b[1;33m,\u001b[0m \u001b[0minput\u001b[0m\u001b[1;33m(\u001b[0m\u001b[1;33m)\u001b[0m\u001b[1;33m.\u001b[0m\u001b[0msplit\u001b[0m\u001b[1;33m(\u001b[0m\u001b[1;33m)\u001b[0m\u001b[1;33m)\u001b[0m\u001b[1;33m\u001b[0m\u001b[1;33m\u001b[0m\u001b[0m\n\u001b[0m\u001b[0;32m      2\u001b[0m \u001b[0mmodel\u001b[0m \u001b[1;33m=\u001b[0m \u001b[1;33m[\u001b[0m\u001b[0mlist\u001b[0m\u001b[1;33m(\u001b[0m\u001b[0mmap\u001b[0m\u001b[1;33m(\u001b[0m\u001b[0mint\u001b[0m\u001b[1;33m,\u001b[0m \u001b[0minput\u001b[0m\u001b[1;33m(\u001b[0m\u001b[1;33m)\u001b[0m\u001b[1;33m.\u001b[0m\u001b[0msplit\u001b[0m\u001b[1;33m(\u001b[0m\u001b[1;33m)\u001b[0m\u001b[1;33m)\u001b[0m\u001b[1;33m)\u001b[0m \u001b[1;32mfor\u001b[0m \u001b[0m_\u001b[0m \u001b[1;32min\u001b[0m \u001b[0mrange\u001b[0m\u001b[1;33m(\u001b[0m\u001b[0mn\u001b[0m\u001b[1;33m)\u001b[0m\u001b[1;33m]\u001b[0m\u001b[1;33m\u001b[0m\u001b[1;33m\u001b[0m\u001b[0m\n\u001b[0;32m      3\u001b[0m \u001b[1;33m\u001b[0m\u001b[0m\n\u001b[0;32m      4\u001b[0m \u001b[1;32mdef\u001b[0m \u001b[0msum\u001b[0m\u001b[1;33m(\u001b[0m\u001b[1;33m)\u001b[0m\u001b[1;33m:\u001b[0m\u001b[1;33m\u001b[0m\u001b[1;33m\u001b[0m\u001b[0m\n\u001b[0;32m      5\u001b[0m     \u001b[0mres\u001b[0m \u001b[1;33m=\u001b[0m \u001b[1;36m0\u001b[0m\u001b[1;33m\u001b[0m\u001b[1;33m\u001b[0m\u001b[0m\n",
      "\u001b[1;31mValueError\u001b[0m: invalid literal for int() with base 10: 'ㅈㅈㅈㅈㅈㅈㅈㅈㅈㅈㅈㅈㅈ'"
     ]
    }
   ],
   "source": [
    "n, m, t = map(int, input().split())\n",
    "model = [list(map(int, input().split())) for _ in range(n)]\n",
    "\n",
    "def sum():\n",
    "    res = 0\n",
    "    for i in model:\n",
    "        for j in i:\n",
    "            if j > 0: res += j\n",
    "    return res\n",
    "            \n",
    "def remove_adj():\n",
    "    global model\n",
    "    chk = []\n",
    "    for i in range(n):\n",
    "        chk.append([])\n",
    "        for _ in range(m):\n",
    "            chk[i].append(False)\n",
    "            \n",
    "    for i in range(n):\n",
    "        for col in range(m):\n",
    "            if model[i][col - 1] == model[i][col]:\n",
    "                chk[i][col - 1] = chk[i][col] = True\n",
    "                \n",
    "    for i in range(m):           \n",
    "        for row in range(1, n):\n",
    "            if model[row - 1][i] == model[row][i]:\n",
    "                 chk[row - 1][i] = chk[row][i] = True\n",
    "     \n",
    "    al = True\n",
    "    cnt = 0\n",
    "    for i in range(n):\n",
    "        for j in range(m):\n",
    "            if model[i][j] > 0: \n",
    "                cnt += 1\n",
    "                if chk[i][j]: \n",
    "                    model[i][j] = -1\n",
    "                    al = False\n",
    "                \n",
    "    if al:\n",
    "        avg = sum() / (cnt if cnt != 0 else 1) \n",
    "        for i in range(n):\n",
    "            for j in range(m):\n",
    "                if model[i][j] > avg:\n",
    "                    model[i][j] -= 1\n",
    "                elif model[i][j] < avg and model[i][j] > -1:\n",
    "                    model[i][j] += 1\n",
    "        \n",
    "def rotate(i, c):\n",
    "    global model\n",
    "    \n",
    "    if c == 0:\n",
    "        tmp = model[i][-1]\n",
    "        for j in range(m - 1, 0, -1):\n",
    "            model[i][j] = model[i][j - 1]\n",
    "        model[i][0] = tmp\n",
    "    else:\n",
    "        tmp = model[i][0]\n",
    "        for j in range(m - 1):\n",
    "            model[i][j] = model[i][j + 1]\n",
    "        model[i][-1] = tmp\n",
    "\n",
    "for _ in range(t):\n",
    "    x, d, k = map(int, input().split())\n",
    "    for _ in range(k):\n",
    "        for i in range(x, n + 1, x):\n",
    "            rotate(i - 1, d) \n",
    "    remove_adj()\n",
    "\n",
    "print(sum())"
   ]
  },
  {
   "cell_type": "markdown",
   "metadata": {},
   "source": [
    "#### 괄호 추가하기"
   ]
  },
  {
   "cell_type": "code",
   "execution_count": 8,
   "metadata": {},
   "outputs": [
    {
     "name": "stdout",
     "output_type": "stream",
     "text": [
      "5 4 10\n",
      "zzzzzzzz\n"
     ]
    },
    {
     "ename": "ValueError",
     "evalue": "invalid literal for int() with base 10: 'zzzzzzzz'",
     "output_type": "error",
     "traceback": [
      "\u001b[1;31m---------------------------------------------------------------------------\u001b[0m",
      "\u001b[1;31mValueError\u001b[0m                                Traceback (most recent call last)",
      "\u001b[1;32m<ipython-input-8-230837436fbf>\u001b[0m in \u001b[0;36m<module>\u001b[1;34m\u001b[0m\n\u001b[0;32m      2\u001b[0m \u001b[1;33m\u001b[0m\u001b[0m\n\u001b[0;32m      3\u001b[0m \u001b[0ma\u001b[0m\u001b[1;33m,\u001b[0m \u001b[0mb\u001b[0m \u001b[1;33m,\u001b[0m\u001b[0mc\u001b[0m \u001b[1;33m=\u001b[0m \u001b[0mmap\u001b[0m\u001b[1;33m(\u001b[0m\u001b[0mint\u001b[0m\u001b[1;33m,\u001b[0m \u001b[0minput\u001b[0m\u001b[1;33m(\u001b[0m\u001b[1;33m)\u001b[0m\u001b[1;33m.\u001b[0m\u001b[0msplit\u001b[0m\u001b[1;33m(\u001b[0m\u001b[1;33m)\u001b[0m\u001b[1;33m)\u001b[0m\u001b[1;33m\u001b[0m\u001b[1;33m\u001b[0m\u001b[0m\n\u001b[1;32m----> 4\u001b[1;33m \u001b[0mn\u001b[0m \u001b[1;33m=\u001b[0m \u001b[0mlist\u001b[0m\u001b[1;33m(\u001b[0m\u001b[0mmap\u001b[0m\u001b[1;33m(\u001b[0m\u001b[0mint\u001b[0m\u001b[1;33m,\u001b[0m\u001b[0minput\u001b[0m\u001b[1;33m(\u001b[0m\u001b[1;33m)\u001b[0m\u001b[1;33m.\u001b[0m\u001b[0msplit\u001b[0m\u001b[1;33m(\u001b[0m\u001b[1;33m)\u001b[0m\u001b[1;33m)\u001b[0m\u001b[1;33m)\u001b[0m\u001b[1;33m\u001b[0m\u001b[1;33m\u001b[0m\u001b[0m\n\u001b[0m\u001b[0;32m      5\u001b[0m \u001b[0mnum\u001b[0m \u001b[1;33m=\u001b[0m \u001b[1;33m{\u001b[0m\u001b[1;33m}\u001b[0m\u001b[1;33m\u001b[0m\u001b[1;33m\u001b[0m\u001b[0m\n\u001b[0;32m      6\u001b[0m \u001b[1;32mfor\u001b[0m \u001b[0mi\u001b[0m \u001b[1;32min\u001b[0m \u001b[0mrange\u001b[0m\u001b[1;33m(\u001b[0m\u001b[0ma\u001b[0m\u001b[1;33m)\u001b[0m\u001b[1;33m:\u001b[0m\u001b[1;33m\u001b[0m\u001b[1;33m\u001b[0m\u001b[0m\n",
      "\u001b[1;31mValueError\u001b[0m: invalid literal for int() with base 10: 'zzzzzzzz'"
     ]
    }
   ],
   "source": [
    "import operator\n",
    "\n",
    "a, b ,c = map(int, input().split())\n",
    "n = list(map(int,input().split()))\n",
    "num = {}\n",
    "for i in range(a):\n",
    "    num[i + 1] = n[i]\n",
    "\n",
    "def make_case():\n",
    "    res = n[-1]\n",
    "    mul = (c ** (a - 1))\n",
    "    for i in range(0, a - 1):\n",
    "        res += (n[i] * mul)\n",
    "        mul //= c\n",
    "    \n",
    "    print(res % ((10 ** 9) + 7))\n",
    "\n",
    "pre = 0\n",
    "num = sorted(num.items(), key=operator.itemgetter(1), reverse = True)\n",
    "make_case()\n",
    "for _ in range(b):\n",
    "    z, y = map(int, input().split())\n",
    "    num[pre + z] = y\n",
    "    num = sorted(num.items(), key=operator.itemgetter(1), reverse = True)\n",
    "    make_case()\n",
    "    pre = (pre + z) \n",
    "    if pre > a : pre -= a"
   ]
  },
  {
   "cell_type": "code",
   "execution_count": 1,
   "metadata": {},
   "outputs": [
    {
     "name": "stdout",
     "output_type": "stream",
     "text": [
      "236\n",
      "★★★★★★\n",
      "\n",
      "★★★★★★★★★\n",
      "\n",
      "★★★★★★★★★★★★★★★★★★\n",
      "\n"
     ]
    }
   ],
   "source": [
    "n = input()\n",
    "\n",
    "for num in n:\n",
    "    for i in range(int(num) * 3):\n",
    "        print(\"\\u2605\", end=\"\")\n",
    "    print(\"\\n\")"
   ]
  },
  {
   "cell_type": "code",
   "execution_count": 10,
   "metadata": {},
   "outputs": [],
   "source": [
    "from person import *"
   ]
  },
  {
   "cell_type": "code",
   "execution_count": 11,
   "metadata": {},
   "outputs": [
    {
     "name": "stdout",
     "output_type": "stream",
     "text": [
      "Lay\n",
      "Doctor Lay\n",
      "lawyer Lay\n",
      "Doctor Lay\n",
      "aa@something.com Lay Jone\n"
     ]
    }
   ],
   "source": [
    "person = Person(\"Lay\")\n",
    "doctor = MDPerson(\"Lay\")\n",
    "lawyer = JDPerdon(\"Lay\")\n",
    "print(person.name)\n",
    "print(doctor.name)\n",
    "print(lawyer.name)\n",
    "\n",
    "lawyer = doctor\n",
    "print(lawyer.name)\n",
    "lay = EmailPerson('Lay Jone', \"aa@something.com\")\n",
    "print(lay.email, lay.name)"
   ]
  },
  {
   "cell_type": "code",
   "execution_count": 12,
   "metadata": {},
   "outputs": [],
   "source": [
    "import pandas"
   ]
  },
  {
   "cell_type": "code",
   "execution_count": 19,
   "metadata": {
    "scrolled": true
   },
   "outputs": [
    {
     "name": "stdout",
     "output_type": "stream",
     "text": [
      "[['', 'store', 'address', 'phone', 'sido-gu\\n'], ['0', '가경동점', '충청북도 청주시흥덕구 풍산로 103(복대동)', '043-233-4091', '\"[\\'충청북도\\'', ' \\'청주시흥덕구\\']\"\\n'], ['1', '가남점', '경기도 여주시 가남면 태평중앙1길 8-6', '031-883-5746', '\"[\\'경기도\\'', ' \\'여주시\\']\"\\n'], ['2', '가래비점', '경기도 양주시 광적면 가래비길 24', '031-855-6126', '\"[\\'경기도\\'', ' \\'양주시\\']\"\\n'], ['3', '가마점', '\"충청북도 청주시서원구 남이면 청남로 1827-25', ' 1층\"', '043-287-2003', '\"[\\'충청북도\\'', ' \\'청주시서원구\\']\"\\n'], ['4', '가수원점', '대전광역시 서구 가수원동 774-18', '042-541-1350', '\"[\\'대전광역시\\'', ' \\'서구\\']\"\\n'], ['5', '가오점', '대전광역시 동구 가오동 533', '042-284-0391', '\"[\\'대전광역시\\'', ' \\'동구\\']\"\\n'], ['6', '가운점', '경기도 남양주시 가운로2길 63 가운동삼원프라자 105호', '031-557-9222', '\"[\\'경기도\\'', ' \\'남양주시\\']\"\\n'], ['7', '가장점', '대전광역시 서구 가장동 40-40', '042-532-1140', '\"[\\'대전광역시\\'', ' \\'서구\\']\"\\n'], ['8', '가정지구1점', '인천광역시 서구 봉오재2로 37 104호', '032-567-5885', '\"[\\'인천광역시\\'', ' \\'서구\\']\"\\n'], ['9', '가좌3점', '인천광역시 서구 가석로156번길 23-1', '032-575-8999', '\"[\\'인천광역시\\'', ' \\'서구\\']\"\\n']]\n"
     ]
    }
   ],
   "source": [
    "with open('pelicana.csv') as file:\n",
    "    csv_data = []\n",
    "    for line in file.readlines():\n",
    "        csv_data.append(line.split(','))\n",
    "    print(csv_data)"
   ]
  },
  {
   "cell_type": "code",
   "execution_count": 22,
   "metadata": {},
   "outputs": [
    {
     "name": "stdout",
     "output_type": "stream",
     "text": [
      "storeaddress\n",
      "\n",
      "0가경동점충청북도 청주시흥덕구 풍산로 103(복대동)\n",
      "\n",
      "1가남점경기도 여주시 가남면 태평중앙1길 8-6\n",
      "\n"
     ]
    }
   ],
   "source": [
    "for i in range(0,3):\n",
    "    for j in range(0,3):\n",
    "        print(csv_data[i][j], end=\"\")\n",
    "    print(\"\\n\")"
   ]
  },
  {
   "cell_type": "code",
   "execution_count": 23,
   "metadata": {},
   "outputs": [
    {
     "name": "stdout",
     "output_type": "stream",
     "text": [
      "----------\n"
     ]
    }
   ],
   "source": [
    "print(\"-\"*10)"
   ]
  },
  {
   "cell_type": "code",
   "execution_count": null,
   "metadata": {},
   "outputs": [],
   "source": []
  }
 ],
 "metadata": {
  "kernelspec": {
   "display_name": "Python 3",
   "language": "python",
   "name": "python3"
  },
  "language_info": {
   "codemirror_mode": {
    "name": "ipython",
    "version": 3
   },
   "file_extension": ".py",
   "mimetype": "text/x-python",
   "name": "python",
   "nbconvert_exporter": "python",
   "pygments_lexer": "ipython3",
   "version": "3.7.1"
  }
 },
 "nbformat": 4,
 "nbformat_minor": 2
}
