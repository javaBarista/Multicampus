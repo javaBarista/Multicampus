{
 "cells": [
  {
   "cell_type": "code",
   "execution_count": 4,
   "metadata": {},
   "outputs": [],
   "source": [
    "import json"
   ]
  },
  {
   "cell_type": "code",
   "execution_count": 5,
   "metadata": {},
   "outputs": [
    {
     "name": "stdout",
     "output_type": "stream",
     "text": [
      "<class 'str'>\n",
      "<class 'dict'>\n",
      "{'name': 'jane', 'age': 17}\n"
     ]
    }
   ],
   "source": [
    "json_data = '{\"name\": \"jane\", \"age\": 17}'\n",
    "\n",
    "data = json.loads(json_data)\n",
    "print(type(json_data))\n",
    "print(type(data))\n",
    "\n",
    "print(data)"
   ]
  },
  {
   "cell_type": "code",
   "execution_count": 6,
   "metadata": {},
   "outputs": [],
   "source": [
    "import urllib.request"
   ]
  },
  {
   "cell_type": "code",
   "execution_count": 9,
   "metadata": {},
   "outputs": [
    {
     "name": "stdout",
     "output_type": "stream",
     "text": [
      "contacts: [{'id': 'c200', 'name': 'Ravi Tamada', 'email': 'ravi@gmail.com', 'address': 'xx-xx-xxxx,x - street, x - country', 'gender': 'male', 'phone': {'mobile': '+91 0000000000', 'home': '00 000000', 'office': '00 000000'}}, {'id': 'c201', 'name': 'Johnny Depp', 'email': 'johnny_depp@gmail.com', 'address': 'xx-xx-xxxx,x - street, x - country', 'gender': 'male', 'phone': {'mobile': '+91 0000000000', 'home': '00 000000', 'office': '00 000000'}}, {'id': 'c202', 'name': 'Leonardo Dicaprio', 'email': 'leonardo_dicaprio@gmail.com', 'address': 'xx-xx-xxxx,x - street, x - country', 'gender': 'male', 'phone': {'mobile': '+91 0000000000', 'home': '00 000000', 'office': '00 000000'}}, {'id': 'c203', 'name': 'John Wayne', 'email': 'john_wayne@gmail.com', 'address': 'xx-xx-xxxx,x - street, x - country', 'gender': 'male', 'phone': {'mobile': '+91 0000000000', 'home': '00 000000', 'office': '00 000000'}}, {'id': 'c204', 'name': 'Angelina Jolie', 'email': 'angelina_jolie@gmail.com', 'address': 'xx-xx-xxxx,x - street, x - country', 'gender': 'female', 'phone': {'mobile': '+91 0000000000', 'home': '00 000000', 'office': '00 000000'}}, {'id': 'c205', 'name': 'Dido', 'email': 'dido@gmail.com', 'address': 'xx-xx-xxxx,x - street, x - country', 'gender': 'female', 'phone': {'mobile': '+91 0000000000', 'home': '00 000000', 'office': '00 000000'}}, {'id': 'c206', 'name': 'Adele', 'email': 'adele@gmail.com', 'address': 'xx-xx-xxxx,x - street, x - country', 'gender': 'female', 'phone': {'mobile': '+91 0000000000', 'home': '00 000000', 'office': '00 000000'}}, {'id': 'c207', 'name': 'Hugh Jackman', 'email': 'hugh_jackman@gmail.com', 'address': 'xx-xx-xxxx,x - street, x - country', 'gender': 'male', 'phone': {'mobile': '+91 0000000000', 'home': '00 000000', 'office': '00 000000'}}, {'id': 'c208', 'name': 'Will Smith', 'email': 'will_smith@gmail.com', 'address': 'xx-xx-xxxx,x - street, x - country', 'gender': 'male', 'phone': {'mobile': '+91 0000000000', 'home': '00 000000', 'office': '00 000000'}}, {'id': 'c209', 'name': 'Clint Eastwood', 'email': 'clint_eastwood@gmail.com', 'address': 'xx-xx-xxxx,x - street, x - country', 'gender': 'male', 'phone': {'mobile': '+91 0000000000', 'home': '00 000000', 'office': '00 000000'}}, {'id': 'c2010', 'name': 'Barack Obama', 'email': 'barack_obama@gmail.com', 'address': 'xx-xx-xxxx,x - street, x - country', 'gender': 'male', 'phone': {'mobile': '+91 0000000000', 'home': '00 000000', 'office': '00 000000'}}, {'id': 'c2011', 'name': 'Kate Winslet', 'email': 'kate_winslet@gmail.com', 'address': 'xx-xx-xxxx,x - street, x - country', 'gender': 'female', 'phone': {'mobile': '+91 0000000000', 'home': '00 000000', 'office': '00 000000'}}, {'id': 'c2012', 'name': 'Eminem', 'email': 'eminem@gmail.com', 'address': 'xx-xx-xxxx,x - street, x - country', 'gender': 'male', 'phone': {'mobile': '+91 0000000000', 'home': '00 000000', 'office': '00 000000'}}]\n"
     ]
    }
   ],
   "source": [
    "hres = urllib.request.urlopen(\"https://api.androidhive.info/contacts/\")\n",
    "\n",
    "data = json.loads(hres.read().decode(\"utf-8\"))\n",
    "\n",
    "print(\"contacts: {}\".format(data['contacts']))\n",
    "#print(\"Unix time: {}\".format(data['milliseconds_since_epoch']))\n",
    "#print(\"Time: {}\".format(data['time']))\n",
    "#print(\"Data: {}\".format(data['data']))"
   ]
  },
  {
   "cell_type": "code",
   "execution_count": 10,
   "metadata": {},
   "outputs": [
    {
     "name": "stdout",
     "output_type": "stream",
     "text": [
      "{\n",
      "\"colours\": [\n",
      "\"grey\",\n",
      "\"red\",\n",
      "\"white\"\n",
      "],\n",
      "\"model\": \"2012\",\n",
      "\"name\": \"Audi\",\n",
      "\"price\": 22000\n",
      "}\n"
     ]
    }
   ],
   "source": [
    "json_data = {\"name\":\"Audi\",\"model\":\"2012\",\"price\":22000,\"colours\":[\"grey\", \"red\", \"white\"]}\n",
    "\n",
    "data = json.dumps(json_data, sort_keys=True, indent=4 * '')\n",
    "print(data)"
   ]
  },
  {
   "cell_type": "code",
   "execution_count": 11,
   "metadata": {},
   "outputs": [
    {
     "name": "stdout",
     "output_type": "stream",
     "text": [
      "'{\"name\": \"Lucy\", \"age\": 23}'\n"
     ]
    }
   ],
   "source": [
    "class Person():\n",
    "    def __init__(self, name, age):\n",
    "        self.name = name\n",
    "        self.age = age\n",
    "\n",
    "p = Person(\"Lucy\", 23)\n",
    "json_data = json.dumps(p.__dict__)\n",
    "print(repr(json_data))"
   ]
  },
  {
   "cell_type": "code",
   "execution_count": 16,
   "metadata": {},
   "outputs": [
    {
     "name": "stdout",
     "output_type": "stream",
     "text": [
      "'[{\"age\": 23, \"name\": \"Lucy\"}, {\"age\": 29, \"name\": \"Thomas\"}]'\n"
     ]
    }
   ],
   "source": [
    "class Person():\n",
    "    def __init__(self, name, age):\n",
    "        self.name = name\n",
    "        self.age = age\n",
    "        \n",
    "    def tojson(self):\n",
    "        '''\n",
    "        Serialize the Object custom object\n",
    "        '''\n",
    "        return json.dumps(self, default=lambda o: o.__dict__, sort_keys=True, indent=4)\n",
    "    \n",
    "p1 = Person(\"Lucy\", 23)\n",
    "p2 = Person(\"Thomas\", 29)\n",
    "    \n",
    "people = []\n",
    "people.append(json.loads(p1.tojson()))\n",
    "people.append(json.loads(p2.tojson()))\n",
    "                  \n",
    "json_data = json.dumps(people)\n",
    "print(repr(json_data))"
   ]
  },
  {
   "cell_type": "code",
   "execution_count": 17,
   "metadata": {},
   "outputs": [],
   "source": [
    "import re"
   ]
  },
  {
   "cell_type": "code",
   "execution_count": 19,
   "metadata": {},
   "outputs": [
    {
     "name": "stdout",
     "output_type": "stream",
     "text": [
      "<re.Match object; span=(0, 14), match='123456-1234567'>\n"
     ]
    }
   ],
   "source": [
    "pattern = re.compile(\"(\\d{6}[-]\\d{7})\")\n",
    "print(pattern.match('123456-1234567'))"
   ]
  },
  {
   "cell_type": "code",
   "execution_count": 22,
   "metadata": {},
   "outputs": [
    {
     "name": "stdout",
     "output_type": "stream",
     "text": [
      "The book matches\n"
     ]
    }
   ],
   "source": [
    "words = {'book', 'bookworn', 'Bible', 'bookish', 'cookbook', 'bookstore', 'pocketbook'}\n",
    "\n",
    "pattern = re.compile(r'book')\n",
    "for word in words:\n",
    "    if re.fullmatch(pattern, word):\n",
    "        print(f'The {word} matches')"
   ]
  },
  {
   "cell_type": "code",
   "execution_count": 21,
   "metadata": {},
   "outputs": [
    {
     "data": {
      "text/plain": [
       "['am', 'python']"
      ]
     },
     "execution_count": 21,
     "metadata": {},
     "output_type": "execute_result"
    }
   ],
   "source": [
    "p = re.compile('[a-z]+')\n",
    "p.findall('I am python 123')"
   ]
  },
  {
   "cell_type": "code",
   "execution_count": 23,
   "metadata": {},
   "outputs": [
    {
     "name": "stdout",
     "output_type": "stream",
     "text": [
      "The bookworn matches\n",
      "The cookbook matches\n",
      "The bookish matches\n",
      "The book matches\n",
      "The bookstore matches\n",
      "The pocketbook matches\n"
     ]
    }
   ],
   "source": [
    "for word in words:\n",
    "    if re.search(pattern, word):\n",
    "        print(f'The {word} matches')"
   ]
  },
  {
   "cell_type": "code",
   "execution_count": 24,
   "metadata": {},
   "outputs": [
    {
     "name": "stdout",
     "output_type": "stream",
     "text": [
      "The revenge matches\n",
      "The seven matches\n"
     ]
    }
   ],
   "source": [
    "words = {'seven', 'even', 'preven', 'revenge', 'maven', 'eleven', 'amen', 'event'}\n",
    "pattern = re.compile(r'.even')\n",
    "\n",
    "for word in words:\n",
    "    if re.match(pattern, word):\n",
    "        print(f'The {word} matches')"
   ]
  },
  {
   "cell_type": "code",
   "execution_count": 33,
   "metadata": {},
   "outputs": [
    {
     "data": {
      "text/plain": [
       "['Python convenience', 'Python flexibility']"
      ]
     },
     "execution_count": 33,
     "metadata": {},
     "output_type": "execute_result"
    }
   ],
   "source": [
    "data = '''\n",
    "Python convenience has made it the most popular language for machine learning and artificial intelligence. \n",
    "Python flexibility has allowed Anyscale to make ML/AI scalable from laptops to clusters.\n",
    "'''\n",
    "\n",
    "p = re.compile(\"Python\\s\\w*\")\n",
    "p.findall(data)"
   ]
  },
  {
   "cell_type": "code",
   "execution_count": 48,
   "metadata": {},
   "outputs": [
    {
     "name": "stdout",
     "output_type": "stream",
     "text": [
      "<re.Match object; span=(0, 9), match='ABCABCABC'>\n"
     ]
    },
    {
     "data": {
      "text/plain": [
       "'ABCABCABC'"
      ]
     },
     "execution_count": 48,
     "metadata": {},
     "output_type": "execute_result"
    }
   ],
   "source": [
    "p = re.compile('(ABC)+')\n",
    "m = p.search('ABCABCABC ok?')\n",
    "print(m)\n",
    "m.group(0)"
   ]
  },
  {
   "cell_type": "code",
   "execution_count": 44,
   "metadata": {},
   "outputs": [
    {
     "data": {
      "text/plain": [
       "'park'"
      ]
     },
     "execution_count": 44,
     "metadata": {},
     "output_type": "execute_result"
    }
   ],
   "source": [
    "data = 'park 010-1234-1234'\n",
    "p = re.compile('\\w+')\n",
    "p.search(data).group(0)"
   ]
  },
  {
   "cell_type": "code",
   "execution_count": 47,
   "metadata": {},
   "outputs": [
    {
     "data": {
      "text/plain": [
       "'park'"
      ]
     },
     "execution_count": 47,
     "metadata": {},
     "output_type": "execute_result"
    }
   ],
   "source": [
    "#(?P<그룹명>)\n",
    "p = re.compile('(?P<name>\\w+)\\s+(\\d+)+[-]+(\\d+)+[-]+(\\d+)')\n",
    "p.search(data).group('name')"
   ]
  },
  {
   "cell_type": "code",
   "execution_count": 50,
   "metadata": {},
   "outputs": [
    {
     "data": {
      "text/plain": [
       "'http:'"
      ]
     },
     "execution_count": 50,
     "metadata": {},
     "output_type": "execute_result"
    }
   ],
   "source": [
    "p = re.compile(\".+:\")\n",
    "m = p.search('http://google.com')\n",
    "m.group()"
   ]
  },
  {
   "cell_type": "code",
   "execution_count": 52,
   "metadata": {},
   "outputs": [
    {
     "data": {
      "text/plain": [
       "'colour socks and colour shoes'"
      ]
     },
     "execution_count": 52,
     "metadata": {},
     "output_type": "execute_result"
    }
   ],
   "source": [
    "p = re.compile('(blue|white|red)')\n",
    "p.sub('colour', 'blue socks and red shoes')"
   ]
  },
  {
   "cell_type": "code",
   "execution_count": 53,
   "metadata": {},
   "outputs": [
    {
     "data": {
      "text/plain": [
       "'colour socks and red shoes'"
      ]
     },
     "execution_count": 53,
     "metadata": {},
     "output_type": "execute_result"
    }
   ],
   "source": [
    "p.sub('colour', 'blue socks and red shoes', count=1)"
   ]
  },
  {
   "cell_type": "code",
   "execution_count": 55,
   "metadata": {},
   "outputs": [
    {
     "data": {
      "text/plain": [
       "'010-1234-1234 park'"
      ]
     },
     "execution_count": 55,
     "metadata": {},
     "output_type": "execute_result"
    }
   ],
   "source": [
    "data = 'park 010-1234-1234'\n",
    "p = re.compile(\"(?P<name>\\w+)\\s+(?P<Phone>(\\d+)[-]\\d+[-]\\d+)\")\n",
    "p.sub('\\g<2> \\g<1>', data)"
   ]
  },
  {
   "cell_type": "code",
   "execution_count": 56,
   "metadata": {},
   "outputs": [
    {
     "data": {
      "text/plain": [
       "(0, 36)"
      ]
     },
     "execution_count": 56,
     "metadata": {},
     "output_type": "execute_result"
    }
   ],
   "source": [
    "s = '<html><head><title>제목</title></html>'\n",
    "re.match('<.*>', s).span()"
   ]
  },
  {
   "cell_type": "code",
   "execution_count": 57,
   "metadata": {},
   "outputs": [
    {
     "data": {
      "text/plain": [
       "'<html><head><title>제목</title></html>'"
      ]
     },
     "execution_count": 57,
     "metadata": {},
     "output_type": "execute_result"
    }
   ],
   "source": [
    "re.match('<.*>', s).group()"
   ]
  },
  {
   "cell_type": "code",
   "execution_count": 60,
   "metadata": {},
   "outputs": [
    {
     "data": {
      "text/plain": [
       "'\\npark 800905-*******\\nkim 700905-*******\\n'"
      ]
     },
     "execution_count": 60,
     "metadata": {},
     "output_type": "execute_result"
    }
   ],
   "source": [
    "data = '''\n",
    "park 800905-1022333\n",
    "kim 700905-2055777\n",
    "'''\n",
    "\n",
    "p = re.compile('(\\d{6})[-](\\d{7})')\n",
    "p.sub('\\g<1>-*******', data)"
   ]
  },
  {
   "cell_type": "code",
   "execution_count": 66,
   "metadata": {},
   "outputs": [
    {
     "data": {
      "text/plain": [
       "['codo***',\n",
       " 'outb7***',\n",
       " 'dubba4***',\n",
       " 'multicuspi***',\n",
       " 'crownm***',\n",
       " 'triformo***',\n",
       " 'spania***',\n",
       " 'magazin***',\n",
       " 'presby***',\n",
       " 'trophody***',\n",
       " 'nontr***',\n",
       " 'enranck***',\n",
       " 'canc***',\n",
       " 'uncanker***',\n",
       " 'wrymo***',\n",
       " 'non***',\n",
       " 'luminat***',\n",
       " 'oblig***',\n",
       " 'anna***',\n",
       " 'hyperth***',\n",
       " 'toplabl***',\n",
       " 'dolce0***',\n",
       " 'rudals2***',\n",
       " 'jjw980***',\n",
       " 'elvlz***',\n",
       " 'skmid***',\n",
       " 'qkep***',\n",
       " 'kisslov***',\n",
       " 'maskman***',\n",
       " 'sungt***']"
      ]
     },
     "execution_count": 66,
     "metadata": {},
     "output_type": "execute_result"
    }
   ],
   "source": [
    "url = \"http://goo.gl/U7mSQl\"\n",
    "html = urllib.request.urlopen(url)\n",
    "\n",
    "html_contents = str(html.read())\n",
    "re.findall('([(\\w)]+\\*\\*\\*)', html_contents)"
   ]
  },
  {
   "cell_type": "code",
   "execution_count": 72,
   "metadata": {},
   "outputs": [
    {
     "name": "stdout",
     "output_type": "stream",
     "text": [
      "2020년 07월 17일 14시 23분 기준 장중\n",
      "종목명 셀트리온\n",
      "종목코드 068270 코스피\n",
      "현재가 327,500 전일대비 상승 12,500 플러스 3.97 퍼센트\n",
      "전일가 315,000\n",
      "시가 318,000\n",
      "고가 330,000\n",
      "상한가 409,500\n",
      "저가 315,000\n",
      "하한가 220,500\n",
      "거래량 1,029,147\n",
      "거래대금 333,364백만\n"
     ]
    }
   ],
   "source": [
    "url = \"https://finance.naver.com/item/main.nhn?code=068270\"\n",
    "\n",
    "html = urllib.request.urlopen(url)\n",
    "html_content = str(html.read().decode('cp949'))\n",
    "stoke_result = re.findall('(\\<dl class=\"blind\"\\>)([\\s\\S]+?)(\\<\\/dl\\>)', html_content)\n",
    "\n",
    "result = re.findall('(\\<dd\\>)([\\s\\S]+?)((\\<\\/dd\\>))', stoke_result[0][1])\n",
    "for r in result:\n",
    "    print(r[1])"
   ]
  },
  {
   "cell_type": "code",
   "execution_count": 73,
   "metadata": {},
   "outputs": [],
   "source": [
    "from bs4 import BeautifulSoup"
   ]
  },
  {
   "cell_type": "code",
   "execution_count": 83,
   "metadata": {},
   "outputs": [
    {
     "name": "stdout",
     "output_type": "stream",
     "text": [
      "<books>\n",
      "  <book>\n",
      "      <author>Carson</author>\n",
      "      <price format=\"dollar\">31.95</price>\n",
      "      <pubdate>05/07/2011</pubdate>\n",
      "  </book>\n",
      "  <publinfo>\n",
      "    <publisher>Korea Press</publisher>\n",
      "    <state>seoul</state>\n",
      "  </publinfo>\n",
      "</books>\n",
      "\n",
      "Carson\n"
     ]
    }
   ],
   "source": [
    "with open('books.xml', 'r') as f:\n",
    "    book_xml = f.read()\n",
    "print(book_xml)\n",
    "\n",
    "soup = BeautifulSoup(book_xml, 'lxml')\n",
    "book = soup.find_all('author')\n",
    "print(book[0].get_text())"
   ]
  },
  {
   "cell_type": "code",
   "execution_count": 93,
   "metadata": {},
   "outputs": [
    {
     "name": "stdout",
     "output_type": "stream",
     "text": [
      "Adjustable shoulder device for hard upper torso suit\n"
     ]
    }
   ],
   "source": [
    "with open(\"US08621662-20140107.xml\", 'r') as f:\n",
    "    us = f.read()\n",
    "    \n",
    "soup = BeautifulSoup(us, 'lxml')\n",
    "usi = soup.find_all('invention-title')\n",
    "for i in usi:\n",
    "    print(i.get_text())"
   ]
  },
  {
   "cell_type": "code",
   "execution_count": 102,
   "metadata": {},
   "outputs": [],
   "source": [
    "from xml.etree.ElementTree import Element, SubElement, dump"
   ]
  },
  {
   "cell_type": "code",
   "execution_count": 103,
   "metadata": {},
   "outputs": [],
   "source": [
    "filname = 'XmlSample'\n",
    "root = Element('books')\n",
    "firstSub = SubElement(root, 'book')\n",
    "secondeSub = SubElement(firstSub, 'author').text = 'Ccc'\n",
    "secondeSub = SubElement(firstSub, 'price').text = '30000'\n",
    "secondeSub = SubElement(firstSub, 'pubdate').text = '01/10/2003'\n",
    "thirdSub = SubElement(root, 'pubinfo')\n",
    "fourthSub = SubElement(thirdSub, 'publisher').text=\"Korean\"\n",
    "fourthSub = SubElement(thirdSub, 'state').text=\"jejudo\"\n",
    "\n",
    "tree = ElementTree(root)\n",
    "tree.write('./'+filname+'.xml')"
   ]
  },
  {
   "cell_type": "code",
   "execution_count": 109,
   "metadata": {},
   "outputs": [
    {
     "name": "stdout",
     "output_type": "stream",
     "text": [
      "국민대학교\n"
     ]
    }
   ],
   "source": [
    "import json\n",
    "hres = urllib.request.urlopen(\"https://nobles1030.cafe24.com/scheduleRequest.php\")\n",
    "data = json.loads(hres.read().decode(\"utf-8\"))\n",
    "\n",
    "print(data[0]['college'])"
   ]
  },
  {
   "cell_type": "code",
   "execution_count": 110,
   "metadata": {},
   "outputs": [],
   "source": [
    "dict_data = {'name':'zara', 'age':'7', 'class':'first'}\n",
    "\n",
    "with open('saved.json', 'w') as f:\n",
    "    json.dump(dict_data, f)"
   ]
  },
  {
   "cell_type": "code",
   "execution_count": null,
   "metadata": {},
   "outputs": [],
   "source": []
  }
 ],
 "metadata": {
  "kernelspec": {
   "display_name": "Python 3",
   "language": "python",
   "name": "python3"
  },
  "language_info": {
   "codemirror_mode": {
    "name": "ipython",
    "version": 3
   },
   "file_extension": ".py",
   "mimetype": "text/x-python",
   "name": "python",
   "nbconvert_exporter": "python",
   "pygments_lexer": "ipython3",
   "version": "3.7.1"
  }
 },
 "nbformat": 4,
 "nbformat_minor": 2
}
